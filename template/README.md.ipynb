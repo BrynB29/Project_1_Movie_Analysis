{
 "cells": [
  {
   "cell_type": "markdown",
   "metadata": {},
   "source": [
    "![example](images/film-set.jpg)"
   ]
  },
  {
   "cell_type": "markdown",
   "metadata": {},
   "source": [
    "# Microsoft Movie Analysis\n",
    "\n",
    "**Authors:** Bryn Bowlden\n",
    "***"
   ]
  },
  {
   "cell_type": "markdown",
   "metadata": {},
   "source": [
    "## Overview\n",
    "\n",
    "\n",
    "This project employs exploratory data analysis to derive insights for Microsoft Corporation's initiative to establish a new movie studio. Drawing from datasets sourced from IMDB and The Numbers, recommendations are provided regarding the genres that Microsoft should consider exploring. The metrics utilized to gauge the success and popularity of each genre include total net profit, ROI and average rating and average run times."
   ]
  },
  {
   "cell_type": "markdown",
   "metadata": {},
   "source": [
    "## Business Problem\n",
    "\n",
    "Microsoft is venturing into the film industry with the establishment of a new movie studio, seeking to leverage exploratory data analysis to navigate the complex landscape of successful films. With limited prior expertise in the field, they aim to explore historical and current trends to glean actionable insights. Through this analysis, Microsoft seeks to inform their decision-making process and determine the most promising film genres to pursue.\n",
    "\n",
    "***\n",
    "The questions addressed by this analysis include:\n",
    "* What is the average runtime a movie should aim to be within?\n",
    "* What are the most popular movie genres to produce and which have the greatest average ratings?\n",
    "* What genres have the highest net profit or ROI?\n",
    "***"
   ]
  },
  {
   "cell_type": "markdown",
   "metadata": {},
   "source": [
    "## Data Sets Used\n",
    "\n",
    "The data sets used in this analysis can be seen below with a brief description for each in the associated subpoints:\n",
    "\n",
    "* <u>imdb.title.basics:</u>\n",
    "    * Contains movie title details, including runtime duration and genre\n",
    "<p style=\"margin-bottom:10px\"></p>\n",
    "* <u>imdb.title.ratings:</u>\n",
    "    * Contains IMDb's vote and rating data for movie titles\n",
    "<p style=\"margin-bottom:10px\"></p>\n",
    "* <u>tn.movie_budgets.csv.gz:</u>\n",
    "    * Contains movie title production costs as well as their domestic and worldwide gross\n",
    "\n",
    "\n",
    "***\n",
    "How the data will be used:\n",
    "\n",
    "There is a significant discrepancy between the amount of data available in each data set. Therefore, Utilization of the data will depend on its size and content diversity. \n",
    "\n",
    "Whenever feasible, the analysis will prioritize the utilization of the largest datasets to address the specified problem. However, for inquiries such as identifying the genres with the highest net profit or ROI, due to the data available, smaller yet comprehensive datasets will be employed to ensure precise analysis.\n",
    "\n",
    "***"
   ]
  },
  {
   "cell_type": "markdown",
   "metadata": {},
   "source": [
    "## Methods"
   ]
  },
  {
   "cell_type": "markdown",
   "metadata": {},
   "source": [
    "The methods used in to achieve the desired outcome of this project include:\n",
    "* Importing and understanding the data frames provided\n",
    "* Cleaning the data\n",
    "* Merging and grouping data\n",
    "* Creating data visualisations to present the findings"
   ]
  },
  {
   "cell_type": "markdown",
   "metadata": {},
   "source": [
    "## Results"
   ]
  },
  {
   "cell_type": "markdown",
   "metadata": {},
   "source": [
    "### Average runtime"
   ]
  },
  {
   "cell_type": "markdown",
   "metadata": {},
   "source": [
    "The average runtime of a movie didn't seem to have a direct correlation to the rating a movies received but the finding show that the majority of movies between 80 to 100 minutes in duration with 85 minutes being the average."
   ]
  },
  {
   "cell_type": "markdown",
   "metadata": {},
   "source": [
    "![average_runtime](images/runtime-minutes.png)"
   ]
  },
  {
   "cell_type": "markdown",
   "metadata": {},
   "source": [
    "### Movies per Genre"
   ]
  },
  {
   "cell_type": "markdown",
   "metadata": {},
   "source": [
    "When analyzing the number of movies per genre, we can see a the distribution of genres being produced. This could indicate a genres popularity.\n",
    "\n",
    "The top 10 most produced genres in descending order are:\n",
    "* Drama\n",
    "* Documentary\n",
    "* Comedy\n",
    "* Thriller\n",
    "* Horror\n",
    "* Action\n",
    "* Romance\n",
    "* Crime\n",
    "* Biography\n",
    "* Adventure"
   ]
  },
  {
   "cell_type": "markdown",
   "metadata": {},
   "source": [
    "![movies_per_genre](images/Number_of_movies_per_genre.png)"
   ]
  },
  {
   "cell_type": "markdown",
   "metadata": {},
   "source": [
    "### Average Ratings per Genre"
   ]
  },
  {
   "cell_type": "markdown",
   "metadata": {},
   "source": [
    "The difference in average ratings between genres is relatively small, yet several less popular genres exhibit notably high average ratings."
   ]
  },
  {
   "cell_type": "markdown",
   "metadata": {},
   "source": [
    "![average_ratings](images/Average_rating_per_genre.png)"
   ]
  },
  {
   "cell_type": "markdown",
   "metadata": {},
   "source": [
    "By examining the ratings within the top 10 genres, we can obtain a clearer picture by eliminating the influence of niche genres."
   ]
  },
  {
   "cell_type": "markdown",
   "metadata": {},
   "source": [
    "![ratings_top_10](images/Average_ratings_top_10.png)"
   ]
  },
  {
   "cell_type": "markdown",
   "metadata": {},
   "source": [
    "Among the top 10 genres, there remains a relatively narrow variance in ratings across genres. The top three genres are documentary, biography, and drama, while the bottom three are action, thriller, and horror."
   ]
  },
  {
   "cell_type": "markdown",
   "metadata": {},
   "source": [
    "### Rerturn On Investment"
   ]
  },
  {
   "cell_type": "markdown",
   "metadata": {},
   "source": [
    "By computing the net profit of movies within the provided dataset, I derived the ROI for each movie. This information was then utilized to determine the average ROI for each genre."
   ]
  },
  {
   "cell_type": "markdown",
   "metadata": {},
   "source": [
    "![ROI_by_genre](images/Average_ROI_by_genre.png)"
   ]
  },
  {
   "cell_type": "markdown",
   "metadata": {},
   "source": [
    "It's evident that the top three genres with the highest ROI are horror, mystery, and thriller, while the lowest are war, musical, and western."
   ]
  },
  {
   "cell_type": "markdown",
   "metadata": {},
   "source": [
    "![ROI_vs_rating](images/ROI_vs_rating_by_genre.png)"
   ]
  },
  {
   "cell_type": "markdown",
   "metadata": {},
   "source": [
    "We observe a negative correlation between ROI and the average rating of genres. This trend is likely attributed to niche genres, which, despite having a smaller but dedicated audience, tend to yield higher average ratings while garnering lower returned on investments."
   ]
  },
  {
   "cell_type": "markdown",
   "metadata": {},
   "source": [
    "## Conclusions\n",
    "\n",
    "Based on the thorough analysis of the dataset, several noteworthy findings emerge:\n",
    "\n",
    "* **Runtime Influence on Rating:** The data suggests that the length of a movie does not necessarily dictate its rating. Despite this, the majority of films fall within the 80 to 100-minute range, with an average runtime of approximately 85 minutes.\n",
    "<p style=\"margin-bottom:10px\"></p>\n",
    "* **Genre Popularity Insight:** Examination of movie counts across different genres sheds light on their popularity within the industry and among audiences.\n",
    "<p style=\"margin-bottom:10px\"></p>\n",
    "* **Dominant Genres:** The top 10 most prolific genres, ranked in descending order, include Drama, Documentary, Comedy, Thriller, Horror, Action, Romance, Crime, Biography, and Adventure.\n",
    "<p style=\"margin-bottom:10px\"></p>\n",
    "* **Rating Variance Among Genres:** While the average ratings across genres exhibit minimal differences, certain less mainstream genres exhibit surprisingly high average ratings.\n",
    "<p style=\"margin-bottom:10px\"></p>\n",
    "* **Genre-Specific Ratings:** Focusing on the top 10 genres allows for a more nuanced understanding of their respective ratings. Documentary, Biography, and Drama emerge as top performers, whereas Action, Thriller, and Horror genres tend to receive lower average ratings.\n",
    "<p style=\"margin-bottom:10px\"></p>\n",
    "* **Financial Performance Analysis:** By computing the net profit and ROI for each film, valuable insights into the financial viability of different genres are revealed. Horror, Mystery, and Thriller genres demonstrate the highest ROI, while War, Musical, and Western genres yield the lowest returns.\n",
    "<p style=\"margin-bottom:10px\"></p>\n",
    "* **ROI vs. Audience Reception:** A negative correlation is observed between ROI and the average rating of genres. Niche genres, although catering to smaller but dedicated audiences, tend to achieve higher average ratings while yielding lower returns on investment.\n",
    "<p style=\"margin-bottom:10px\"></p>\n",
    "In summary, while factors like runtime and genre popularity provide valuable insights, understanding the financial dynamics, particularly ROI, is crucial for decision-making in the film industry. This comprehensive analysis aids filmmakers and investors in making informed choices regarding genre selection and resource allocation, balancing creative aspirations with financial considerations.\n"
   ]
  },
  {
   "cell_type": "markdown",
   "metadata": {},
   "source": [
    "## Final Recommendations "
   ]
  },
  {
   "cell_type": "markdown",
   "metadata": {},
   "source": [
    "Based on the insights gleaned from the data and the considerations outlined above, the recommendations can be categorized into two main approaches: focusing on return on investment and prioritizing popularity and audience reception.\n",
    "<p style=\"margin-bottom:10px\"></p>\n",
    "These recommendations are as follows:\n",
    "\n",
    "* **For Return on Investment:**\n",
    "If the primary consideration is maximizing return on investment, the data suggests that producing a horror movie would be the most lucrative option.\n",
    "<p style=\"margin-bottom:10px\"></p>\n",
    "* **For Popularity and Audience Reception:**\n",
    "Alternatively, if the emphasis is on popularity and appealing to a wide audience, opting for a drama movie would be a prudent and reliable choice, given its consistent appeal and broad audience acceptance.\n",
    "\n",
    "Both of the aforementioned genres should aim to align with the average runtime duration of 85 minutes, which appears to be the standard duration among movies in the dataset. This duration could help maintain audience engagement while ensuring efficient storytelling within the typical attention span."
   ]
  }
 ],
 "metadata": {
  "kernelspec": {
   "display_name": "Python 3 (ipykernel)",
   "language": "python",
   "name": "python3"
  },
  "language_info": {
   "codemirror_mode": {
    "name": "ipython",
    "version": 3
   },
   "file_extension": ".py",
   "mimetype": "text/x-python",
   "name": "python",
   "nbconvert_exporter": "python",
   "pygments_lexer": "ipython3",
   "version": "3.11.5"
  }
 },
 "nbformat": 4,
 "nbformat_minor": 4
}
